{
 "cells": [
  {
   "cell_type": "markdown",
   "id": "f437043a-50fa-48ac-ae5f-00f6008a1c8b",
   "metadata": {},
   "source": [
    "# Анализ тестовой выборки"
   ]
  },
  {
   "cell_type": "markdown",
   "id": "4f7075da-15fc-4926-92d7-0df598841a3d",
   "metadata": {},
   "source": [
    "Давайте сделаем предсказание на тестовой выборке. Для этого загрузим наши модель и токенайзер, возьмем тестовые данные из предобработанного файла *full_df.csv*, который мы получили в процессе тренировки модели, токенизируем тексты и отправим их в нейронную сеть. "
   ]
  },
  {
   "cell_type": "code",
   "execution_count": 44,
   "id": "f719f962-a43d-4e8a-8353-04157979762d",
   "metadata": {},
   "outputs": [],
   "source": [
    "from keras.preprocessing.text import tokenizer_from_json\n",
    "from keras.utils import pad_sequences, text_dataset_from_directory\n",
    "from keras.models import load_model\n",
    "import os\n",
    "\n",
    "import pandas as pd\n",
    "import numpy as np\n",
    "import matplotlib.pyplot as plt\n",
    "import seaborn as sns\n",
    "\n",
    "from sklearn.metrics import accuracy_score, confusion_matrix"
   ]
  },
  {
   "cell_type": "code",
   "execution_count": 7,
   "id": "ede27924-0c9d-40c2-a627-7bd7bf423f71",
   "metadata": {},
   "outputs": [],
   "source": [
    "model = load_model('imdbratings.h5')\n",
    "with open('tokenizer.json', 'r') as f:\n",
    "    tokenizer_json = f.read()\n",
    "tokenizer = tokenizer_from_json(tokenizer_json)"
   ]
  },
  {
   "cell_type": "code",
   "execution_count": 49,
   "id": "bcec852e-2617-4cb1-8099-35a5e1b704a7",
   "metadata": {},
   "outputs": [],
   "source": [
    "test_df = pd.read_csv('full_df.csv', index_col='Unnamed: 0').iloc[25000:]"
   ]
  },
  {
   "cell_type": "code",
   "execution_count": 16,
   "id": "e060049f-3066-4cc4-baed-8740a49eff41",
   "metadata": {},
   "outputs": [],
   "source": [
    "tokenized_text = tokenizer.texts_to_sequences(test_df.text)\n",
    "test_data = pad_sequences(tokenized_text, maxlen=548, padding='post')\n",
    "test_labels = test_df.rating"
   ]
  },
  {
   "cell_type": "code",
   "execution_count": 18,
   "id": "81bab72c-b7f9-4bc8-aedf-e6474d826b6a",
   "metadata": {},
   "outputs": [
    {
     "name": "stdout",
     "output_type": "stream",
     "text": [
      "782/782 [==============================] - 19s 24ms/step\n"
     ]
    }
   ],
   "source": [
    "predictions = model.predict(test_data)"
   ]
  },
  {
   "cell_type": "code",
   "execution_count": 100,
   "id": "0b1ff234-4b85-40c4-a443-84267d6fc6ed",
   "metadata": {},
   "outputs": [
    {
     "data": {
      "text/plain": [
       "array([[0.8770803 ],\n",
       "       [0.9917684 ],\n",
       "       [0.0073953 ],\n",
       "       [0.9871543 ],\n",
       "       [0.10897158]], dtype=float32)"
      ]
     },
     "execution_count": 100,
     "metadata": {},
     "output_type": "execute_result"
    }
   ],
   "source": [
    "predictions[:5]"
   ]
  },
  {
   "cell_type": "markdown",
   "id": "bf5353ef-8d2e-4dec-8ea2-fbe38facb9c6",
   "metadata": {},
   "source": [
    "Результатом работы нейронной сети являются дробные числа. Их можно интерпретировать как *уверенность нейронной сети в том, что данный отзыв - положительный*. Поэтому нам нужно привести предсказания к бинарной форме: если модель уверена больше, чем на 50% - это положительный отзыв, если меньше - отрицательный."
   ]
  },
  {
   "cell_type": "code",
   "execution_count": 32,
   "id": "8f1b9330-d198-43b4-8c22-7deb131c0fdb",
   "metadata": {},
   "outputs": [],
   "source": [
    "bin_predictions = []\n",
    "for x in predictions:\n",
    "    if x > 0.5:\n",
    "        bin_predictions.append(1)\n",
    "    else:\n",
    "        bin_predictions.append(0)"
   ]
  },
  {
   "cell_type": "markdown",
   "id": "428f1775-ba35-4da0-8bbd-0fa7b231df78",
   "metadata": {},
   "source": [
    "Итак, посчитаем точность предсказаний:"
   ]
  },
  {
   "cell_type": "code",
   "execution_count": 102,
   "id": "cef0cc16-cee2-4e3e-8334-af8f14c433d3",
   "metadata": {},
   "outputs": [],
   "source": [
    "acc = np.round(accuracy_score(test_labels, bin_predictions) * 100)"
   ]
  },
  {
   "cell_type": "code",
   "execution_count": 101,
   "id": "5f903b56-d64c-4cf2-be66-ddb7d2d0542f",
   "metadata": {},
   "outputs": [
    {
     "data": {
      "image/png": "[encoded data removed]",
      "text/plain": [
       "<Figure size 640x480 with 1 Axes>"
      ]
     },
     "metadata": {},
     "output_type": "display_data"
    }
   ],
   "source": [
    "plt.pie(x=[acc, 100-acc], labels=['Correct', 'Wrong'], shadow=True, autopct='%1i%%');"
   ]
  },
  {
   "cell_type": "markdown",
   "id": "0b77c6c5-d80e-474d-8bbe-94e81e152f8e",
   "metadata": {},
   "source": [
    "## Модель точна в 86% случаев, что является отличным результатом. Но в чем она ошибается?"
   ]
  },
  {
   "cell_type": "markdown",
   "id": "5d33cb34-8e8a-4925-af4a-7d3df0957bae",
   "metadata": {},
   "source": [
    "Давайте посмотрим, в каких отзывах модель ошибается больше - в положительных или отрицательных."
   ]
  },
  {
   "cell_type": "code",
   "execution_count": 103,
   "id": "da8ca429-f56e-414c-8f5a-1502766560e4",
   "metadata": {},
   "outputs": [
    {
     "data": {
      "image/png": "[encoded data removed]",
      "text/plain": [
       "<Figure size 640x480 with 1 Axes>"
      ]
     },
     "metadata": {},
     "output_type": "display_data"
    }
   ],
   "source": [
    "conf = confusion_matrix(test_labels, bin_predictions)\n",
    "sns.heatmap(conf, annot=True, fmt='g', cbar=False);"
   ]
  },
  {
   "cell_type": "markdown",
   "id": "f5cdf55d-5654-43f9-aa40-3a67990f150d",
   "metadata": {},
   "source": [
    "Как мы видим, числа примерно равны. Давайте взглянем на те тексты, которые модель классифицировала неверно."
   ]
  },
  {
   "cell_type": "code",
   "execution_count": 50,
   "id": "ad990161-77fc-4672-9814-577f04d49fa7",
   "metadata": {},
   "outputs": [
    {
     "data": {
      "text/html": [
       "<div>\n",
       "<style scoped>\n",
       "    .dataframe tbody tr th:only-of-type {\n",
       "        vertical-align: middle;\n",
       "    }\n",
       "\n",
       "    .dataframe tbody tr th {\n",
       "        vertical-align: top;\n",
       "    }\n",
       "\n",
       "    .dataframe thead th {\n",
       "        text-align: right;\n",
       "    }\n",
       "</style>\n",
       "<table border=\"1\" class=\"dataframe\">\n",
       "  <thead>\n",
       "    <tr style=\"text-align: right;\">\n",
       "      <th></th>\n",
       "      <th>text</th>\n",
       "      <th>rating</th>\n",
       "    </tr>\n",
       "  </thead>\n",
       "  <tbody>\n",
       "    <tr>\n",
       "      <th>0</th>\n",
       "      <td>sadly great opportunity utilise superb cast br...</td>\n",
       "      <td>0</td>\n",
       "    </tr>\n",
       "    <tr>\n",
       "      <th>4</th>\n",
       "      <td>truly scary film . happen curmudgeon james kun...</td>\n",
       "      <td>1</td>\n",
       "    </tr>\n",
       "    <tr>\n",
       "      <th>5</th>\n",
       "      <td>thing watchable corey performance lunatic kill...</td>\n",
       "      <td>0</td>\n",
       "    </tr>\n",
       "    <tr>\n",
       "      <th>9</th>\n",
       "      <td>read classic science fiction novel mini - seri...</td>\n",
       "      <td>0</td>\n",
       "    </tr>\n",
       "    <tr>\n",
       "      <th>24</th>\n",
       "      <td>beautifully film , mind expand exploration gyp...</td>\n",
       "      <td>1</td>\n",
       "    </tr>\n",
       "    <tr>\n",
       "      <th>...</th>\n",
       "      <td>...</td>\n",
       "      <td>...</td>\n",
       "    </tr>\n",
       "    <tr>\n",
       "      <th>24950</th>\n",
       "      <td>speck white shape , beautiful nude , random im...</td>\n",
       "      <td>0</td>\n",
       "    </tr>\n",
       "    <tr>\n",
       "      <th>24951</th>\n",
       "      <td>movie deserve . mike judge satirical wit bring...</td>\n",
       "      <td>1</td>\n",
       "    </tr>\n",
       "    <tr>\n",
       "      <th>24953</th>\n",
       "      <td>ok , yes know philistine , knowledge , love op...</td>\n",
       "      <td>0</td>\n",
       "    </tr>\n",
       "    <tr>\n",
       "      <th>24969</th>\n",
       "      <td>evil man ( 1984 ) non - cannon film charlie br...</td>\n",
       "      <td>0</td>\n",
       "    </tr>\n",
       "    <tr>\n",
       "      <th>24983</th>\n",
       "      <td>solomon sheba come hollywood lore quality film...</td>\n",
       "      <td>0</td>\n",
       "    </tr>\n",
       "  </tbody>\n",
       "</table>\n",
       "<p>3548 rows × 2 columns</p>\n",
       "</div>"
      ],
      "text/plain": [
       "                                                    text  rating\n",
       "0      sadly great opportunity utilise superb cast br...       0\n",
       "4      truly scary film . happen curmudgeon james kun...       1\n",
       "5      thing watchable corey performance lunatic kill...       0\n",
       "9      read classic science fiction novel mini - seri...       0\n",
       "24     beautifully film , mind expand exploration gyp...       1\n",
       "...                                                  ...     ...\n",
       "24950  speck white shape , beautiful nude , random im...       0\n",
       "24951  movie deserve . mike judge satirical wit bring...       1\n",
       "24953  ok , yes know philistine , knowledge , love op...       0\n",
       "24969  evil man ( 1984 ) non - cannon film charlie br...       0\n",
       "24983  solomon sheba come hollywood lore quality film...       0\n",
       "\n",
       "[3548 rows x 2 columns]"
      ]
     },
     "execution_count": 50,
     "metadata": {},
     "output_type": "execute_result"
    }
   ],
   "source": [
    "test_df[test_df.rating != bin_predictions]"
   ]
  },
  {
   "cell_type": "code",
   "execution_count": 57,
   "id": "0a2e2343-237c-40cd-8431-9418311a5789",
   "metadata": {},
   "outputs": [
    {
     "data": {
      "text/plain": [
       "'truly scary film . happen curmudgeon james kunstler rant lead recently - form web log like life oil crash ( latoc ) , energy bulletin , oil drum , datum theory hubbert peak . like film , latoc kunstler paint grim picture die - die - . hope premature , mid-2005 rise gasoline price , rise oil price , chevron join campaign , bp petroleum t boone picken lend credence idea near peak oil production . copious research limited datum , oil investment banker matt simmons suggest saudi long able increase production immense , age field . face increase demand ( primarily china ) , saudi respond high production , despite previous assurance . state world production 2000 2004 indicate light , sweet crude peak . mean refine costly . film aim baby boomer , young people , child , need understand implication energy - deplete future .'"
      ]
     },
     "execution_count": 57,
     "metadata": {},
     "output_type": "execute_result"
    }
   ],
   "source": [
    "test_df.text[4]"
   ]
  },
  {
   "cell_type": "code",
   "execution_count": 60,
   "id": "5f570f02-3630-40e8-baee-bef6d9fe4db5",
   "metadata": {},
   "outputs": [
    {
     "data": {
      "text/plain": [
       "'thing watchable corey performance lunatic killer loose . remain impossible tale revenge matrimonial discord . walkie - talkie scene feel cotten squeeze sweet potato communication device . interesting thing alan hale ( skipper \" gilligan island \" ) fat , low arm waist . recommend .'"
      ]
     },
     "execution_count": 60,
     "metadata": {},
     "output_type": "execute_result"
    }
   ],
   "source": [
    "test_df.text[5]"
   ]
  },
  {
   "cell_type": "code",
   "execution_count": 58,
   "id": "2805124a-b2dc-4f07-a34c-5edc142f2ae5",
   "metadata": {},
   "outputs": [
    {
     "data": {
      "text/plain": [
       "'read classic science fiction novel mini - series base , actually good . unfortunately , fan book , probably able watch hour . political intrigue film , important scene book , character motivation change completely , word wrong character mouth . novel paul atredie teen age boy incredible political skill great understanding way world work , film hot head frustrate . avoid movie cost .'"
      ]
     },
     "execution_count": 58,
     "metadata": {},
     "output_type": "execute_result"
    }
   ],
   "source": [
    "test_df.text[9]"
   ]
  },
  {
   "cell_type": "code",
   "execution_count": 59,
   "id": "fa92c8ac-36c5-492f-8103-fead7bc67100",
   "metadata": {},
   "outputs": [
    {
     "data": {
      "text/plain": [
       "'speck white shape , beautiful nude , random image . little experimental short film . kind interesting think early day film image transfer film , despite love lot surreal image film , fascination bizarre , film . I be sorry watch , underlie meaning , . visually , outstanding , humble opinion . example dadaism , suppose fit , reject semblance logic reason , prefer visually interesting way . .'"
      ]
     },
     "execution_count": 59,
     "metadata": {},
     "output_type": "execute_result"
    }
   ],
   "source": [
    "test_df.text[24950]"
   ]
  },
  {
   "cell_type": "code",
   "execution_count": 61,
   "id": "c80199b5-e017-496e-810e-0ffdf04f4cfc",
   "metadata": {},
   "outputs": [
    {
     "data": {
      "text/plain": [
       "'movie deserve . mike judge satirical wit bring light country try deny ... dumb society . 24 - hour - - day anna nicole coverage proof ? mike judge paint frightening future , dumb survive thrive . stop think , laugh . look world ask dumb ? overtake human trash trash ? ( beware landslides).the movie funny . tell plot want spoil . release film zero promotion ? stupid ?'"
      ]
     },
     "execution_count": 61,
     "metadata": {},
     "output_type": "execute_result"
    }
   ],
   "source": [
    "test_df.text[24951]"
   ]
  },
  {
   "cell_type": "markdown",
   "id": "0deab6d6-bef4-49d8-8318-dc9223ed4f2c",
   "metadata": {},
   "source": [
    "Увидев эти примеры, становится понятно, почему модель иногда ошибается. Модель способна разделять тексты на \"плохие\" и \"хорошие\", но не учитывает контекст. Например, если фильм страшный или в нем фигурируют убийства, нейросеть решит, что это отрицательный отзыв - хотя для фильма ужасов это положительный отзыв. В другом случае рецензент долго расхваливает книгу, по которой был снят фильм, и лишь в конце говорит, что фильм получился неудачный. Из-за преобладания \"хороших\" слов модель выносит положительный вердикт. Также классификатор плохо работает с иронией, сарказмом и сатирой.\n",
    "\n",
    "О том, что с этим делать, я расскажу в общем отчете о проделанной работе."
   ]
  }
 ],
 "metadata": {
  "kernelspec": {
   "display_name": "Python 3 (ipykernel)",
   "language": "python",
   "name": "python3"
  },
  "language_info": {
   "codemirror_mode": {
    "name": "ipython",
    "version": 3
   },
   "file_extension": ".py",
   "mimetype": "text/x-python",
   "name": "python",
   "nbconvert_exporter": "python",
   "pygments_lexer": "ipython3",
   "version": "3.10.6"
  }
 },
 "nbformat": 4,
 "nbformat_minor": 5
}
