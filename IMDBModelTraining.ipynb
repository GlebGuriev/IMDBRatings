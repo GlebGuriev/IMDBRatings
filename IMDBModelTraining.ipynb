{
 "cells": [
  {
   "cell_type": "markdown",
   "metadata": {},
   "source": [
    "# Обучение модели\n",
    "\n",
    "Оценив размер датасета и примерную архитектуру будущей нейросети, я понял, что возможностей моего скромного ноутбука не хватит, чтобы эффективно обучить модель. Поэтому я отправился на Kaggle, чтобы воспользоваться любезно предоставляемой там видеокартой Nvidia Tesla P100.\n",
    "\n",
    "Итак, для начала импортируем необходимые библиотеки. Для работы с нейросетями я использую TensorFlow/Keras, для предобработки текста - SpaCy, а для векторизации - GloVe с размерностью 100, обученный на текстах википедии и датасете Gigaword."
   ]
  },
  {
   "cell_type": "code",
   "execution_count": 84,
   "metadata": {
    "_cell_guid": "b1076dfc-b9ad-4769-8c92-a6c4dae69d19",
    "_uuid": "8f2839f25d086af736a60e9eeb907d3b93b6e0e5",
    "execution": {
     "iopub.execute_input": "2023-03-15T12:30:27.803158Z",
     "iopub.status.busy": "2023-03-15T12:30:27.802787Z",
     "iopub.status.idle": "2023-03-15T12:30:27.815159Z",
     "shell.execute_reply": "2023-03-15T12:30:27.813902Z",
     "shell.execute_reply.started": "2023-03-15T12:30:27.803122Z"
    }
   },
   "outputs": [
    {
     "name": "stdout",
     "output_type": "stream",
     "text": [
      "/kaggle/input/imdbpreproccesed/full_df.csv\n"
     ]
    }
   ],
   "source": [
    "# This Python 3 environment comes with many helpful analytics libraries installed\n",
    "# It is defined by the kaggle/python Docker image: https://github.com/kaggle/docker-python\n",
    "# For example, here's several helpful packages to load\n",
    "\n",
    "import numpy as np # linear algebra\n",
    "import pandas as pd # data processing, CSV file I/O (e.g. pd.read_csv)\n",
    "\n",
    "# Input data files are available in the read-only \"../input/\" directory\n",
    "# For example, running this (by clicking run or pressing Shift+Enter) will list all files under the input directory\n",
    "\n",
    "import shutil\n",
    "import os\n",
    "for dirname, _, filenames in os.walk('/kaggle/input'):\n",
    "    for filename in filenames:\n",
    "        print(os.path.join(dirname, filename))\n",
    "\n",
    "# You can write up to 20GB to the current directory (/kaggle/working/) that gets preserved as output when you create a version using \"Save & Run All\" \n",
    "# You can also write temporary files to /kaggle/temp/, but they won't be saved outside of the current session\n",
    "\n",
    "import tensorflow as tf\n",
    "import keras\n",
    "from keras.preprocessing.text import Tokenizer\n",
    "from keras.utils import pad_sequences\n",
    "from keras.models import Sequential\n",
    "from keras.layers import Dense, Flatten, Embedding, Reshape, Dropout, LSTM\n",
    "from keras.optimizers import Adam\n",
    "\n",
    "import spacy\n",
    "import gensim.downloader as api\n",
    "import re\n",
    "\n",
    "import matplotlib.pyplot as plt\n",
    "\n",
    "nlp = spacy.load(\"en_core_web_sm\")\n",
    "glove = api.load(\"glove-wiki-gigaword-100\")"
   ]
  },
  {
   "cell_type": "markdown",
   "metadata": {},
   "source": [
    "Скачаем датасет, удалим из него лишние unsupervised данные, бесполезные для обучения модели, и разобьем данные на тренировочный, валидационный и тестовый сеты."
   ]
  },
  {
   "cell_type": "code",
   "execution_count": 3,
   "metadata": {
    "execution": {
     "iopub.execute_input": "2023-03-15T11:07:59.498853Z",
     "iopub.status.busy": "2023-03-15T11:07:59.498450Z",
     "iopub.status.idle": "2023-03-15T11:08:25.112532Z",
     "shell.execute_reply": "2023-03-15T11:08:25.111494Z",
     "shell.execute_reply.started": "2023-03-15T11:07:59.498818Z"
    }
   },
   "outputs": [
    {
     "name": "stdout",
     "output_type": "stream",
     "text": [
      "Downloading data from https://ai.stanford.edu/~amaas/data/sentiment/aclImdb_v1.tar.gz\n",
      "84125825/84125825 [==============================] - 1s 0us/step\n"
     ]
    }
   ],
   "source": [
    "url = \"https://ai.stanford.edu/~amaas/data/sentiment/aclImdb_v1.tar.gz\"\n",
    "\n",
    "dataset = keras.utils.get_file(origin=url, untar=True, \n",
    "                                  cache_dir='/imdbdataset', cache_subdir='')\n",
    "\n",
    "dataset_dir = os.path.dirname(dataset)"
   ]
  },
  {
   "cell_type": "code",
   "execution_count": 4,
   "metadata": {
    "execution": {
     "iopub.execute_input": "2023-03-15T11:09:00.121708Z",
     "iopub.status.busy": "2023-03-15T11:09:00.120693Z",
     "iopub.status.idle": "2023-03-15T11:09:00.130302Z",
     "shell.execute_reply": "2023-03-15T11:09:00.127708Z",
     "shell.execute_reply.started": "2023-03-15T11:09:00.121656Z"
    }
   },
   "outputs": [],
   "source": [
    "dataset_dir = os.path.join(dataset_dir, 'aclImdb')"
   ]
  },
  {
   "cell_type": "code",
   "execution_count": 5,
   "metadata": {
    "execution": {
     "iopub.execute_input": "2023-03-15T11:09:02.393884Z",
     "iopub.status.busy": "2023-03-15T11:09:02.392726Z",
     "iopub.status.idle": "2023-03-15T11:09:02.403383Z",
     "shell.execute_reply": "2023-03-15T11:09:02.402107Z",
     "shell.execute_reply.started": "2023-03-15T11:09:02.393836Z"
    }
   },
   "outputs": [
    {
     "data": {
      "text/plain": [
       "['neg',\n",
       " 'unsupBow.feat',\n",
       " 'unsup',\n",
       " 'labeledBow.feat',\n",
       " 'urls_unsup.txt',\n",
       " 'urls_neg.txt',\n",
       " 'urls_pos.txt',\n",
       " 'pos']"
      ]
     },
     "execution_count": 5,
     "metadata": {},
     "output_type": "execute_result"
    }
   ],
   "source": [
    "train_dir = os.path.join(dataset_dir, 'train')\n",
    "os.listdir(train_dir)"
   ]
  },
  {
   "cell_type": "code",
   "execution_count": 6,
   "metadata": {
    "execution": {
     "iopub.execute_input": "2023-03-15T11:09:05.422128Z",
     "iopub.status.busy": "2023-03-15T11:09:05.421762Z",
     "iopub.status.idle": "2023-03-15T11:09:07.084135Z",
     "shell.execute_reply": "2023-03-15T11:09:07.083046Z",
     "shell.execute_reply.started": "2023-03-15T11:09:05.422096Z"
    }
   },
   "outputs": [],
   "source": [
    "shutil.rmtree(os.path.join(train_dir, 'unsup'))"
   ]
  },
  {
   "cell_type": "code",
   "execution_count": 7,
   "metadata": {
    "execution": {
     "iopub.execute_input": "2023-03-15T11:09:08.423018Z",
     "iopub.status.busy": "2023-03-15T11:09:08.421886Z",
     "iopub.status.idle": "2023-03-15T11:09:08.433566Z",
     "shell.execute_reply": "2023-03-15T11:09:08.432422Z",
     "shell.execute_reply.started": "2023-03-15T11:09:08.422975Z"
    }
   },
   "outputs": [
    {
     "data": {
      "text/plain": [
       "['neg', 'labeledBow.feat', 'urls_neg.txt', 'urls_pos.txt', 'pos']"
      ]
     },
     "execution_count": 7,
     "metadata": {},
     "output_type": "execute_result"
    }
   ],
   "source": [
    "test_dir = os.path.join(dataset_dir, 'test')\n",
    "os.listdir(test_dir)"
   ]
  },
  {
   "cell_type": "code",
   "execution_count": 8,
   "metadata": {
    "execution": {
     "iopub.execute_input": "2023-03-15T11:09:10.443422Z",
     "iopub.status.busy": "2023-03-15T11:09:10.442714Z",
     "iopub.status.idle": "2023-03-15T11:09:14.537272Z",
     "shell.execute_reply": "2023-03-15T11:09:14.536154Z",
     "shell.execute_reply.started": "2023-03-15T11:09:10.443383Z"
    }
   },
   "outputs": [
    {
     "name": "stdout",
     "output_type": "stream",
     "text": [
      "Found 25000 files belonging to 2 classes.\n",
      "Using 20000 files for training.\n",
      "Found 25000 files belonging to 2 classes.\n",
      "Using 5000 files for validation.\n",
      "Found 25000 files belonging to 2 classes.\n"
     ]
    }
   ],
   "source": [
    "seed = 0\n",
    "\n",
    "raw_train_ds = keras.utils.text_dataset_from_directory(\n",
    "    train_dir, \n",
    "    batch_size=None, \n",
    "    validation_split=0.2, \n",
    "    subset='training', \n",
    "    seed=seed)\n",
    "\n",
    "raw_valid_ds = keras.utils.text_dataset_from_directory(\n",
    "    train_dir, \n",
    "    batch_size=None, \n",
    "    validation_split=0.2, \n",
    "    subset='validation', \n",
    "    seed=seed)\n",
    "\n",
    "raw_test_ds = keras.utils.text_dataset_from_directory(\n",
    "    test_dir, \n",
    "    batch_size=None)"
   ]
  },
  {
   "cell_type": "markdown",
   "metadata": {},
   "source": [
    "Для удобства предобработки сделаем из наших сетов пандовские датафреймы и соединим их в одну таблицу - full_df."
   ]
  },
  {
   "cell_type": "code",
   "execution_count": 9,
   "metadata": {
    "execution": {
     "iopub.execute_input": "2023-03-15T11:09:17.886612Z",
     "iopub.status.busy": "2023-03-15T11:09:17.885608Z",
     "iopub.status.idle": "2023-03-15T11:09:17.892768Z",
     "shell.execute_reply": "2023-03-15T11:09:17.891701Z",
     "shell.execute_reply.started": "2023-03-15T11:09:17.886576Z"
    }
   },
   "outputs": [],
   "source": [
    "def create_dataframe(raw):\n",
    "    texts = []\n",
    "    labels = []\n",
    "    for text, label in raw:\n",
    "        texts.append(text.numpy().decode('utf-8'))\n",
    "        labels.append(label.numpy())\n",
    "\n",
    "    df = pd.DataFrame(labels, texts).reset_index().rename({'index': 'text', 0: 'rating'}, axis=1)\n",
    "    return df"
   ]
  },
  {
   "cell_type": "code",
   "execution_count": 10,
   "metadata": {
    "execution": {
     "iopub.execute_input": "2023-03-15T11:09:20.247955Z",
     "iopub.status.busy": "2023-03-15T11:09:20.246756Z",
     "iopub.status.idle": "2023-03-15T11:09:34.718499Z",
     "shell.execute_reply": "2023-03-15T11:09:34.717503Z",
     "shell.execute_reply.started": "2023-03-15T11:09:20.247905Z"
    }
   },
   "outputs": [],
   "source": [
    "train_df = create_dataframe(raw_train_ds)\n",
    "valid_df = create_dataframe(raw_valid_ds)\n",
    "test_df = create_dataframe(raw_test_ds)"
   ]
  },
  {
   "cell_type": "code",
   "execution_count": 11,
   "metadata": {
    "execution": {
     "iopub.execute_input": "2023-03-15T11:09:36.858918Z",
     "iopub.status.busy": "2023-03-15T11:09:36.857949Z",
     "iopub.status.idle": "2023-03-15T11:09:36.876672Z",
     "shell.execute_reply": "2023-03-15T11:09:36.875536Z",
     "shell.execute_reply.started": "2023-03-15T11:09:36.858866Z"
    }
   },
   "outputs": [
    {
     "data": {
      "text/html": [
       "<div>\n",
       "<style scoped>\n",
       "    .dataframe tbody tr th:only-of-type {\n",
       "        vertical-align: middle;\n",
       "    }\n",
       "\n",
       "    .dataframe tbody tr th {\n",
       "        vertical-align: top;\n",
       "    }\n",
       "\n",
       "    .dataframe thead th {\n",
       "        text-align: right;\n",
       "    }\n",
       "</style>\n",
       "<table border=\"1\" class=\"dataframe\">\n",
       "  <thead>\n",
       "    <tr style=\"text-align: right;\">\n",
       "      <th></th>\n",
       "      <th>text</th>\n",
       "      <th>rating</th>\n",
       "    </tr>\n",
       "  </thead>\n",
       "  <tbody>\n",
       "    <tr>\n",
       "      <th>0</th>\n",
       "      <td>This is exactly the type of film that frustrat...</td>\n",
       "      <td>0</td>\n",
       "    </tr>\n",
       "    <tr>\n",
       "      <th>1</th>\n",
       "      <td>I definitely recommend reading the book prior ...</td>\n",
       "      <td>1</td>\n",
       "    </tr>\n",
       "    <tr>\n",
       "      <th>2</th>\n",
       "      <td>Sloppily directed, witless comedy that suppose...</td>\n",
       "      <td>0</td>\n",
       "    </tr>\n",
       "    <tr>\n",
       "      <th>3</th>\n",
       "      <td>Inspired at least a little by Ivy Benson &amp; Her...</td>\n",
       "      <td>1</td>\n",
       "    </tr>\n",
       "    <tr>\n",
       "      <th>4</th>\n",
       "      <td>Spirit is a unique and original look at wester...</td>\n",
       "      <td>1</td>\n",
       "    </tr>\n",
       "  </tbody>\n",
       "</table>\n",
       "</div>"
      ],
      "text/plain": [
       "                                                text  rating\n",
       "0  This is exactly the type of film that frustrat...       0\n",
       "1  I definitely recommend reading the book prior ...       1\n",
       "2  Sloppily directed, witless comedy that suppose...       0\n",
       "3  Inspired at least a little by Ivy Benson & Her...       1\n",
       "4  Spirit is a unique and original look at wester...       1"
      ]
     },
     "execution_count": 11,
     "metadata": {},
     "output_type": "execute_result"
    }
   ],
   "source": [
    "full_df = pd.concat([train_df, valid_df, test_df])\n",
    "full_df.head()"
   ]
  },
  {
   "cell_type": "markdown",
   "metadata": {},
   "source": [
    "Теперь поработаем с входными данными. Во-первых, очистим тексты от эмодзи и тегов. Затем приведем все строки к нижнему регистру.\n",
    "Для оптимизации обучения нейросети и для сокращения потребляемой памяти удалим из текстов наиболее употребляемые слова, которые не влияют на характеристику текста: это местоимения, союзы, предлоги и т.д. В библиотеке SpaCy есть такой список слов для исключения.\n",
    "И в заключении приведем все слова к их первоначальной форме - лемматизируем. Это тоже сократит объём нашего словаря.\n",
    "\n",
    "Напишем для этого следующую функцию:"
   ]
  },
  {
   "cell_type": "code",
   "execution_count": 12,
   "metadata": {
    "execution": {
     "iopub.execute_input": "2023-03-15T11:09:41.620576Z",
     "iopub.status.busy": "2023-03-15T11:09:41.619871Z",
     "iopub.status.idle": "2023-03-15T11:09:41.627234Z",
     "shell.execute_reply": "2023-03-15T11:09:41.626045Z",
     "shell.execute_reply.started": "2023-03-15T11:09:41.620536Z"
    }
   },
   "outputs": [],
   "source": [
    "stopwords = nlp.Defaults.stop_words\n",
    "def normalize_text(text):\n",
    "    emoji_pattern = re.compile(pattern = \"[\"\n",
    "        u\"\\U0001F600-\\U0001F64F\"  # emoticons\n",
    "        u\"\\U0001F300-\\U0001F5FF\"  # symbols & pictographs\n",
    "        u\"\\U0001F680-\\U0001F6FF\"  # transport & map symbols\n",
    "        u\"\\U0001F1E0-\\U0001F1FF\"  # flags (iOS)\n",
    "                           \"]+\", flags = re.UNICODE)\n",
    "    unemoji = emoji_pattern.sub(r'',text)\n",
    "    \n",
    "    tag_pattern = re.compile('<.*?>')\n",
    "    untag = tag_pattern.sub(r'', unemoji)\n",
    "    lowercase = untag.lower()\n",
    "    \n",
    "    no_stopwords = ' '.join([word for word in lowercase.split() if word not in stopwords])\n",
    "    lemmas = ' '.join([word.lemma_ for word in nlp(no_stopwords)])\n",
    "    \n",
    "    return lemmas"
   ]
  },
  {
   "cell_type": "markdown",
   "metadata": {},
   "source": [
    "Отлично, теперь применим эту функцию к полному датасету. Это заняло у меня около получаса, поэтому результат я сохранил в файл *full_df.csv* и впоследствии, например, для анализа, я обращался к уже предобработанным данным."
   ]
  },
  {
   "cell_type": "code",
   "execution_count": 17,
   "metadata": {
    "execution": {
     "iopub.execute_input": "2023-03-15T11:10:32.427317Z",
     "iopub.status.busy": "2023-03-15T11:10:32.426560Z",
     "iopub.status.idle": "2023-03-15T11:10:32.807271Z",
     "shell.execute_reply": "2023-03-15T11:10:32.805874Z",
     "shell.execute_reply.started": "2023-03-15T11:10:32.427277Z"
    }
   },
   "outputs": [
    {
     "data": {
      "text/html": [
       "<div>\n",
       "<style scoped>\n",
       "    .dataframe tbody tr th:only-of-type {\n",
       "        vertical-align: middle;\n",
       "    }\n",
       "\n",
       "    .dataframe tbody tr th {\n",
       "        vertical-align: top;\n",
       "    }\n",
       "\n",
       "    .dataframe thead th {\n",
       "        text-align: right;\n",
       "    }\n",
       "</style>\n",
       "<table border=\"1\" class=\"dataframe\">\n",
       "  <thead>\n",
       "    <tr style=\"text-align: right;\">\n",
       "      <th></th>\n",
       "      <th>text</th>\n",
       "      <th>rating</th>\n",
       "    </tr>\n",
       "  </thead>\n",
       "  <tbody>\n",
       "    <tr>\n",
       "      <th>0</th>\n",
       "      <td>like monster movie , generally . implausible s...</td>\n",
       "      <td>0</td>\n",
       "    </tr>\n",
       "    <tr>\n",
       "      <th>1</th>\n",
       "      <td>bad movie . robin williams fit like rhino fit ...</td>\n",
       "      <td>0</td>\n",
       "    </tr>\n",
       "    <tr>\n",
       "      <th>2</th>\n",
       "      <td>1986 movie accident tv night . 6 year old . si...</td>\n",
       "      <td>1</td>\n",
       "    </tr>\n",
       "    <tr>\n",
       "      <th>3</th>\n",
       "      <td>big fan martial art movie , video shop nearly ...</td>\n",
       "      <td>1</td>\n",
       "    </tr>\n",
       "    <tr>\n",
       "      <th>4</th>\n",
       "      <td>film screen night austin paramount theater sxs...</td>\n",
       "      <td>1</td>\n",
       "    </tr>\n",
       "  </tbody>\n",
       "</table>\n",
       "</div>"
      ],
      "text/plain": [
       "                                                text  rating\n",
       "0  like monster movie , generally . implausible s...       0\n",
       "1  bad movie . robin williams fit like rhino fit ...       0\n",
       "2  1986 movie accident tv night . 6 year old . si...       1\n",
       "3  big fan martial art movie , video shop nearly ...       1\n",
       "4  film screen night austin paramount theater sxs...       1"
      ]
     },
     "execution_count": 17,
     "metadata": {},
     "output_type": "execute_result"
    }
   ],
   "source": [
    "full_df.text = full_df.text.map(normalize_text)\n",
    "#full_df.to_csv('full_df.csv')\n",
    "#full_df = pd.read_csv('/kaggle/input/imdbpreproccesed/full_df.csv', \n",
    "#                      index_col='Unnamed: 0')\n",
    "full_df.head()"
   ]
  },
  {
   "cell_type": "markdown",
   "metadata": {},
   "source": [
    "Проверим, что ничего не потерялось :)"
   ]
  },
  {
   "cell_type": "code",
   "execution_count": 18,
   "metadata": {
    "execution": {
     "iopub.execute_input": "2023-03-15T11:10:40.137155Z",
     "iopub.status.busy": "2023-03-15T11:10:40.136438Z",
     "iopub.status.idle": "2023-03-15T11:10:40.143580Z",
     "shell.execute_reply": "2023-03-15T11:10:40.142535Z",
     "shell.execute_reply.started": "2023-03-15T11:10:40.137115Z"
    }
   },
   "outputs": [
    {
     "data": {
      "text/plain": [
       "50000"
      ]
     },
     "execution_count": 18,
     "metadata": {},
     "output_type": "execute_result"
    }
   ],
   "source": [
    "len(full_df)"
   ]
  },
  {
   "cell_type": "markdown",
   "metadata": {},
   "source": [
    "Хорошо, теперь перейдем от букв к цифрам. Tokenizer из библиотеки Keras присваивает каждому слову из наших текстов уникальный номер. В результате текст становится последовательностью чисел."
   ]
  },
  {
   "cell_type": "code",
   "execution_count": 19,
   "metadata": {
    "execution": {
     "iopub.execute_input": "2023-03-15T11:11:19.394237Z",
     "iopub.status.busy": "2023-03-15T11:11:19.393470Z",
     "iopub.status.idle": "2023-03-15T11:11:27.686547Z",
     "shell.execute_reply": "2023-03-15T11:11:27.685343Z",
     "shell.execute_reply.started": "2023-03-15T11:11:19.394198Z"
    }
   },
   "outputs": [
    {
     "name": "stdout",
     "output_type": "stream",
     "text": [
      "[3, 375, 1, 1023, 3150, 448, 102, 3, 1, 3150, 448, 33, 420, 6, 3, 8540, 91, 19, 112, 470, 5612, 3, 29182, 15, 67, 13, 267, 2120, 102, 23, 404, 110, 1284, 52391, 785, 324, 119, 12, 1366, 2198, 422, 13065, 2198, 22, 737, 563, 34, 3, 8, 1221, 58, 9319, 681, 67, 37, 404, 107, 1436, 69, 25278, 2218, 3, 1048, 14, 5612, 21, 95, 13065, 556, 261, 1114, 2690, 1680, 121, 2218, 22, 1, 404, 261, 3150, 261, 470, 2690, 1594, 5612, 260, 2120, 216, 404, 13, 267, 179, 188, 7, 692, 905, 862, 2218, 893, 22606]\n"
     ]
    }
   ],
   "source": [
    "tokenizer = Tokenizer() \n",
    "tokenizer.fit_on_texts(full_df.text)\n",
    "vocab_size = len(tokenizer.word_index) + 1\n",
    "tokenized_text = tokenizer.texts_to_sequences(full_df.text)\n",
    "print(tokenized_text[0])"
   ]
  },
  {
   "cell_type": "markdown",
   "metadata": {},
   "source": [
    "Чтобы отправить тексты в нейросеть, нужно, чтобы длина всех текстов была одинаковой. Приведем их к медианной длине всех текстов, представленных в датасете. \n",
    "Используем для этого утилиту Keras pad_sequences, которая добавит в конец текста нули, если он по длине меньше, чем медиана, а если текст больше, то обрежет до необходимых размеров."
   ]
  },
  {
   "cell_type": "code",
   "execution_count": 20,
   "metadata": {
    "execution": {
     "iopub.execute_input": "2023-03-15T11:11:30.868627Z",
     "iopub.status.busy": "2023-03-15T11:11:30.867910Z",
     "iopub.status.idle": "2023-03-15T11:11:31.316342Z",
     "shell.execute_reply": "2023-03-15T11:11:31.315155Z",
     "shell.execute_reply.started": "2023-03-15T11:11:30.868587Z"
    }
   },
   "outputs": [
    {
     "name": "stdout",
     "output_type": "stream",
     "text": [
      "3 375 1 1023 3150 448 102 3 1 3150 448 33 420 6 3 8540 91 19 112 470 5612 3 29182 15 67 13 267 2120 102 23 404 110 1284 52391 785 324 119 12 1366 2198 422 13065 2198 22 737 563 34 3 8 1221 58 9319 681 67 37 404 107 1436 69 25278 2218 3 1048 14 5612 21 95 13065 556 261 1114 2690 1680 121 2218 22 1 404 261 3150 261 470 2690 1594 5612 260 2120 216 404 13 267 179 188 7 692 905 862 2218 893 22606 0 0 0 0 0 0 0 0 0 0 0 0 0 0 0 0 0 0 0 0 0 0 0 0 0 0 0 0 0 0 0 0 0 0 0 0 0 0 0 0 0 0 0 0 0 0 0 0 0 0 0 0 0 0 0 0 0 0 0 0 0 0 0 0 0 0 0 0 0 0 0 0 0 0 0 0 0 0 0 0 0 0 0 0 0 0 0 0 0 0 0 0 0 0 0 0 0 0 0 0 0 0 0 0 0 0 0 0 0 0 0 0 0 0 0 0 0 0 0 0 0 0 0 0 0 0 0 0 0 0 0 0 0 0 0 0 0 0 0 0 0 0 0 0 0 0 0 0 0 0 0 0 0 0 0 0 0 0 0 0 0 0 0 0 0 0 0 0 0 0 0 0 0 0 0 0 0 0 0 0 0 0 0 0 0 0 0 0 0 0 0 0 0 0 0 0 0 0 0 0 0 0 0 0 0 0 0 0 0 0 0 0 0 0 0 0 0 0 0 0 0 0 0 0 0 0 0 0 0 0 0 0 0 0 0 0 0 0 0 0 0 0 0 0 0 0 0 0 0 0 0 0 0 0 0 0 0 0 0 0 0 0 0 0 0 0 0 0 0 0 0 0 0 0 0 0 0 0 0 0 0 0 0 0 0 0 0 0 0 0 0 0 0 0 0 0 0 0 0 0 0 0 0 0 0 0 0 0 0 0 0 0 0 0 0 0 0 0 0 0 0 0 0 0 0 0 0 0 0 0 0 0 0 0 0 0 0 0 0 0 0 0 0 0 0 0 0 0 0 0 0 0 0 0 0 0 0 0 0 0 0 0 0 0 0 0 0 0 0 0 0 0 0 0 0 0 0 0 0 0 0 0 0 0 0 0 0 0 0 0 0 0 0 0 0 0 0 0 0 0 0 0 0 0 0 0 0 0 0 0 0 0 0 0 0 0 0 0 0 0 0 0 0 0 0 0 0 0 0 0 0 0 0 0 0 0 0 0 0 0 0 0 0 0 0 0 0 0\n"
     ]
    }
   ],
   "source": [
    "max_length = int(np.median(full_df.text.str.len()))\n",
    "padded_text = pad_sequences(tokenized_text, maxlen=max_length, padding='post')\n",
    "print(*padded_text[0])"
   ]
  },
  {
   "cell_type": "markdown",
   "metadata": {},
   "source": [
    "И наконец, построим матрицу эмбеддингов. Каждому слову в нашем словаре сопоставим векторное представление из GloVe."
   ]
  },
  {
   "cell_type": "code",
   "execution_count": 21,
   "metadata": {
    "execution": {
     "iopub.execute_input": "2023-03-15T11:11:34.928665Z",
     "iopub.status.busy": "2023-03-15T11:11:34.928275Z",
     "iopub.status.idle": "2023-03-15T11:11:35.170191Z",
     "shell.execute_reply": "2023-03-15T11:11:35.169085Z",
     "shell.execute_reply.started": "2023-03-15T11:11:34.928606Z"
    }
   },
   "outputs": [],
   "source": [
    "embedding_matrix = np.zeros((vocab_size, 100))\n",
    "for word, i in tokenizer.word_index.items():\n",
    "    try:\n",
    "        embedding_matrix[i] = glove.get_vector(word)\n",
    "    except:\n",
    "        pass"
   ]
  },
  {
   "cell_type": "markdown",
   "metadata": {},
   "source": [
    "\"Расклеим\" полный датасет обратно в тренировочный, валидационный и тестовый, и приступим к обучению нейросети."
   ]
  },
  {
   "cell_type": "code",
   "execution_count": 68,
   "metadata": {
    "execution": {
     "iopub.execute_input": "2023-03-15T11:45:34.217423Z",
     "iopub.status.busy": "2023-03-15T11:45:34.216710Z",
     "iopub.status.idle": "2023-03-15T11:45:34.224127Z",
     "shell.execute_reply": "2023-03-15T11:45:34.222748Z",
     "shell.execute_reply.started": "2023-03-15T11:45:34.217383Z"
    }
   },
   "outputs": [],
   "source": [
    "train_data = padded_text[:20000]\n",
    "train_labels = full_df.rating[:20000]\n",
    "\n",
    "valid_data = padded_text[20000:25000]\n",
    "valid_labels = full_df.rating[20000:25000]\n",
    "\n",
    "test_data = padded_text[25000:]\n",
    "test_labels = full_df.rating[25000:]"
   ]
  },
  {
   "cell_type": "markdown",
   "metadata": {
    "execution": {
     "iopub.execute_input": "2023-03-15T09:02:13.843448Z",
     "iopub.status.busy": "2023-03-15T09:02:13.843030Z",
     "iopub.status.idle": "2023-03-15T09:02:13.849514Z",
     "shell.execute_reply": "2023-03-15T09:02:13.848323Z",
     "shell.execute_reply.started": "2023-03-15T09:02:13.843411Z"
    }
   },
   "source": [
    "# Обучение\n",
    "\n",
    "Чтобы модель могла усвоить сложные взаимосвязи, но при этом обучалась сравнительно быстро, я выбрал следующую архитектуру НС:"
   ]
  },
  {
   "cell_type": "code",
   "execution_count": 87,
   "metadata": {
    "execution": {
     "iopub.execute_input": "2023-03-15T12:31:59.160832Z",
     "iopub.status.busy": "2023-03-15T12:31:59.160445Z",
     "iopub.status.idle": "2023-03-15T12:31:59.530689Z",
     "shell.execute_reply": "2023-03-15T12:31:59.529883Z",
     "shell.execute_reply.started": "2023-03-15T12:31:59.160799Z"
    }
   },
   "outputs": [
    {
     "name": "stdout",
     "output_type": "stream",
     "text": [
      "Model: \"sequential_11\"\n",
      "_________________________________________________________________\n",
      " Layer (type)                Output Shape              Param #   \n",
      "=================================================================\n",
      " embedding_14 (Embedding)    (None, 548, 100)          9199900   \n",
      "                                                                 \n",
      " dropout_9 (Dropout)         (None, 548, 100)          0         \n",
      "                                                                 \n",
      " conv1d_5 (Conv1D)           (None, 544, 64)           32064     \n",
      "                                                                 \n",
      " max_pooling1d_5 (MaxPooling  (None, 136, 64)          0         \n",
      " 1D)                                                             \n",
      "                                                                 \n",
      " lstm_9 (LSTM)               (None, 64)                33024     \n",
      "                                                                 \n",
      " dense_11 (Dense)            (None, 1)                 65        \n",
      "                                                                 \n",
      "=================================================================\n",
      "Total params: 9,265,053\n",
      "Trainable params: 65,153\n",
      "Non-trainable params: 9,199,900\n",
      "_________________________________________________________________\n",
      "None\n"
     ]
    }
   ],
   "source": [
    "model = tf.keras.Sequential([\n",
    "    tf.keras.layers.Embedding(vocab_size, 100, input_length=max_length, weights=[embedding_matrix], trainable=False),\n",
    "    tf.keras.layers.Dropout(0.2),\n",
    "    tf.keras.layers.Conv1D(64, 5, activation='relu'),\n",
    "    tf.keras.layers.MaxPooling1D(pool_size=4),\n",
    "    tf.keras.layers.LSTM(64),\n",
    "    tf.keras.layers.Dense(1, activation='sigmoid')\n",
    "])\n",
    "\n",
    "model.compile(loss='binary_crossentropy',optimizer='adam',metrics=['accuracy'])\n",
    "print(model.summary())"
   ]
  },
  {
   "cell_type": "markdown",
   "metadata": {},
   "source": [
    "Начнем обучение!"
   ]
  },
  {
   "cell_type": "code",
   "execution_count": 88,
   "metadata": {
    "execution": {
     "iopub.execute_input": "2023-03-15T12:32:03.704064Z",
     "iopub.status.busy": "2023-03-15T12:32:03.703682Z",
     "iopub.status.idle": "2023-03-15T12:35:27.487163Z",
     "shell.execute_reply": "2023-03-15T12:35:27.486008Z",
     "shell.execute_reply.started": "2023-03-15T12:32:03.704031Z"
    }
   },
   "outputs": [
    {
     "name": "stdout",
     "output_type": "stream",
     "text": [
      "Epoch 1/20\n",
      "625/625 [==============================] - 10s 12ms/step - loss: 0.6934 - accuracy: 0.4987 - val_loss: 0.6932 - val_accuracy: 0.5016\n",
      "Epoch 2/20\n",
      "625/625 [==============================] - 7s 12ms/step - loss: 0.6932 - accuracy: 0.4967 - val_loss: 0.6932 - val_accuracy: 0.4988\n",
      "Epoch 3/20\n",
      "625/625 [==============================] - 8s 13ms/step - loss: 0.6937 - accuracy: 0.5031 - val_loss: 0.7226 - val_accuracy: 0.4980\n",
      "Epoch 4/20\n",
      "625/625 [==============================] - 8s 12ms/step - loss: 0.6946 - accuracy: 0.5013 - val_loss: 0.6937 - val_accuracy: 0.4980\n",
      "Epoch 5/20\n",
      "625/625 [==============================] - 7s 12ms/step - loss: 0.6937 - accuracy: 0.5038 - val_loss: 0.6930 - val_accuracy: 0.5018\n",
      "Epoch 6/20\n",
      "625/625 [==============================] - 8s 13ms/step - loss: 0.6935 - accuracy: 0.5009 - val_loss: 0.6938 - val_accuracy: 0.5014\n",
      "Epoch 7/20\n",
      "625/625 [==============================] - 7s 12ms/step - loss: 0.6513 - accuracy: 0.6072 - val_loss: 0.5523 - val_accuracy: 0.7412\n",
      "Epoch 8/20\n",
      "625/625 [==============================] - 7s 12ms/step - loss: 0.4964 - accuracy: 0.7712 - val_loss: 0.4204 - val_accuracy: 0.8170\n",
      "Epoch 9/20\n",
      "625/625 [==============================] - 7s 12ms/step - loss: 0.4031 - accuracy: 0.8238 - val_loss: 0.3749 - val_accuracy: 0.8354\n",
      "Epoch 10/20\n",
      "625/625 [==============================] - 7s 11ms/step - loss: 0.3625 - accuracy: 0.8402 - val_loss: 0.3793 - val_accuracy: 0.8386\n",
      "Epoch 11/20\n",
      "625/625 [==============================] - 7s 12ms/step - loss: 0.3469 - accuracy: 0.8528 - val_loss: 0.3821 - val_accuracy: 0.8350\n",
      "Epoch 12/20\n",
      "625/625 [==============================] - 7s 12ms/step - loss: 0.3235 - accuracy: 0.8636 - val_loss: 0.3452 - val_accuracy: 0.8514\n",
      "Epoch 13/20\n",
      "625/625 [==============================] - 8s 12ms/step - loss: 0.3054 - accuracy: 0.8719 - val_loss: 0.3378 - val_accuracy: 0.8552\n",
      "Epoch 14/20\n",
      "625/625 [==============================] - 7s 11ms/step - loss: 0.2833 - accuracy: 0.8838 - val_loss: 0.3446 - val_accuracy: 0.8568\n",
      "Epoch 15/20\n",
      "625/625 [==============================] - 8s 13ms/step - loss: 0.2705 - accuracy: 0.8890 - val_loss: 0.3514 - val_accuracy: 0.8568\n",
      "Epoch 16/20\n",
      "625/625 [==============================] - 7s 12ms/step - loss: 0.2556 - accuracy: 0.8951 - val_loss: 0.3528 - val_accuracy: 0.8490\n",
      "Epoch 17/20\n",
      "625/625 [==============================] - 7s 12ms/step - loss: 0.2426 - accuracy: 0.9017 - val_loss: 0.3610 - val_accuracy: 0.8554\n",
      "Epoch 18/20\n",
      "625/625 [==============================] - 7s 12ms/step - loss: 0.2279 - accuracy: 0.9087 - val_loss: 0.3622 - val_accuracy: 0.8488\n",
      "Epoch 19/20\n",
      "625/625 [==============================] - 8s 13ms/step - loss: 0.2172 - accuracy: 0.9144 - val_loss: 0.3838 - val_accuracy: 0.8558\n",
      "Epoch 20/20\n",
      "625/625 [==============================] - 8s 12ms/step - loss: 0.2086 - accuracy: 0.9176 - val_loss: 0.3590 - val_accuracy: 0.8526\n"
     ]
    }
   ],
   "source": [
    "history = model.fit(train_data, train_labels, epochs=20, validation_data=(valid_data, valid_labels))"
   ]
  },
  {
   "cell_type": "code",
   "execution_count": 89,
   "metadata": {
    "execution": {
     "iopub.execute_input": "2023-03-15T12:35:27.489659Z",
     "iopub.status.busy": "2023-03-15T12:35:27.489346Z",
     "iopub.status.idle": "2023-03-15T12:35:27.731568Z",
     "shell.execute_reply": "2023-03-15T12:35:27.730549Z",
     "shell.execute_reply.started": "2023-03-15T12:35:27.489609Z"
    }
   },
   "outputs": [
    {
     "data": {
      "text/plain": [
       "<matplotlib.legend.Legend at 0x7fbb7c310e90>"
      ]
     },
     "execution_count": 89,
     "metadata": {},
     "output_type": "execute_result"
    },
    {
     "data": {
      "image/png": "[encoded data removed]",
      "text/plain": [
       "<Figure size 640x480 with 1 Axes>"
      ]
     },
     "metadata": {},
     "output_type": "display_data"
    }
   ],
   "source": [
    "plt.plot(history.history['loss'])\n",
    "plt.plot(history.history['accuracy'])\n",
    "plt.legend(['Loss', 'Accuracy'])"
   ]
  },
  {
   "cell_type": "markdown",
   "metadata": {},
   "source": [
    "Так выглядит график обучения нейросети после 20 эпох. После 20 эпох данная модель начинает переобучаться, точность на валидационной выборке падает, поэтому следует остановиться.\n",
    "\n",
    "Сохраним обученную модель и токенайзер для использования непосредственно в приложении."
   ]
  },
  {
   "cell_type": "code",
   "execution_count": 90,
   "metadata": {
    "execution": {
     "iopub.execute_input": "2023-03-15T12:35:32.836348Z",
     "iopub.status.busy": "2023-03-15T12:35:32.835984Z",
     "iopub.status.idle": "2023-03-15T12:35:32.992252Z",
     "shell.execute_reply": "2023-03-15T12:35:32.991178Z",
     "shell.execute_reply.started": "2023-03-15T12:35:32.836315Z"
    }
   },
   "outputs": [],
   "source": [
    "model.save('imdbratings.h5')\n",
    "tokenizer_json = tokenizer.to_json()\n",
    "with open('tokenizer.json', 'w') as f:\n",
    "    f.write(tokenizer_json)"
   ]
  }
 ],
 "metadata": {
  "kernelspec": {
   "display_name": "Python 3 (ipykernel)",
   "language": "python",
   "name": "python3"
  },
  "language_info": {
   "codemirror_mode": {
    "name": "ipython",
    "version": 3
   },
   "file_extension": ".py",
   "mimetype": "text/x-python",
   "name": "python",
   "nbconvert_exporter": "python",
   "pygments_lexer": "ipython3",
   "version": "3.10.6"
  }
 },
 "nbformat": 4,
 "nbformat_minor": 4
}
